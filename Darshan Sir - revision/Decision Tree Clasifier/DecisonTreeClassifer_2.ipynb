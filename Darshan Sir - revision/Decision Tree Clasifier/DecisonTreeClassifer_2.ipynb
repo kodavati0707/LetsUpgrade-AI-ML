{
 "cells": [
  {
   "cell_type": "code",
   "execution_count": 116,
   "metadata": {},
   "outputs": [],
   "source": [
    "import pandas as pd"
   ]
  },
  {
   "cell_type": "code",
   "execution_count": 117,
   "metadata": {},
   "outputs": [],
   "source": [
    "import numpy as np"
   ]
  },
  {
   "cell_type": "code",
   "execution_count": 118,
   "metadata": {},
   "outputs": [],
   "source": [
    "data = pd.read_csv(\"Social_Network_Ads.csv\")"
   ]
  },
  {
   "cell_type": "code",
   "execution_count": 119,
   "metadata": {},
   "outputs": [
    {
     "data": {
      "text/html": [
       "<div>\n",
       "<style scoped>\n",
       "    .dataframe tbody tr th:only-of-type {\n",
       "        vertical-align: middle;\n",
       "    }\n",
       "\n",
       "    .dataframe tbody tr th {\n",
       "        vertical-align: top;\n",
       "    }\n",
       "\n",
       "    .dataframe thead th {\n",
       "        text-align: right;\n",
       "    }\n",
       "</style>\n",
       "<table border=\"1\" class=\"dataframe\">\n",
       "  <thead>\n",
       "    <tr style=\"text-align: right;\">\n",
       "      <th></th>\n",
       "      <th>User ID</th>\n",
       "      <th>Gender</th>\n",
       "      <th>Age</th>\n",
       "      <th>EstimatedSalary</th>\n",
       "      <th>Purchased</th>\n",
       "    </tr>\n",
       "  </thead>\n",
       "  <tbody>\n",
       "    <tr>\n",
       "      <th>0</th>\n",
       "      <td>15624510</td>\n",
       "      <td>Male</td>\n",
       "      <td>19</td>\n",
       "      <td>19000</td>\n",
       "      <td>0</td>\n",
       "    </tr>\n",
       "    <tr>\n",
       "      <th>1</th>\n",
       "      <td>15810944</td>\n",
       "      <td>Male</td>\n",
       "      <td>35</td>\n",
       "      <td>20000</td>\n",
       "      <td>0</td>\n",
       "    </tr>\n",
       "    <tr>\n",
       "      <th>2</th>\n",
       "      <td>15668575</td>\n",
       "      <td>Female</td>\n",
       "      <td>26</td>\n",
       "      <td>43000</td>\n",
       "      <td>0</td>\n",
       "    </tr>\n",
       "    <tr>\n",
       "      <th>3</th>\n",
       "      <td>15603246</td>\n",
       "      <td>Female</td>\n",
       "      <td>27</td>\n",
       "      <td>57000</td>\n",
       "      <td>0</td>\n",
       "    </tr>\n",
       "    <tr>\n",
       "      <th>4</th>\n",
       "      <td>15804002</td>\n",
       "      <td>Male</td>\n",
       "      <td>19</td>\n",
       "      <td>76000</td>\n",
       "      <td>0</td>\n",
       "    </tr>\n",
       "  </tbody>\n",
       "</table>\n",
       "</div>"
      ],
      "text/plain": [
       "    User ID  Gender  Age  EstimatedSalary  Purchased\n",
       "0  15624510    Male   19            19000          0\n",
       "1  15810944    Male   35            20000          0\n",
       "2  15668575  Female   26            43000          0\n",
       "3  15603246  Female   27            57000          0\n",
       "4  15804002    Male   19            76000          0"
      ]
     },
     "execution_count": 119,
     "metadata": {},
     "output_type": "execute_result"
    }
   ],
   "source": [
    "data.head()"
   ]
  },
  {
   "cell_type": "code",
   "execution_count": 120,
   "metadata": {},
   "outputs": [
    {
     "name": "stdout",
     "output_type": "stream",
     "text": [
      "<class 'pandas.core.frame.DataFrame'>\n",
      "RangeIndex: 400 entries, 0 to 399\n",
      "Data columns (total 5 columns):\n",
      "User ID            400 non-null int64\n",
      "Gender             400 non-null object\n",
      "Age                400 non-null int64\n",
      "EstimatedSalary    400 non-null int64\n",
      "Purchased          400 non-null int64\n",
      "dtypes: int64(4), object(1)\n",
      "memory usage: 14.1+ KB\n"
     ]
    }
   ],
   "source": [
    "data.info()"
   ]
  },
  {
   "cell_type": "code",
   "execution_count": 121,
   "metadata": {},
   "outputs": [],
   "source": [
    "from sklearn.preprocessing import LabelEncoder\n",
    "lb  = LabelEncoder()"
   ]
  },
  {
   "cell_type": "code",
   "execution_count": 122,
   "metadata": {},
   "outputs": [],
   "source": [
    "data['Gender'] = lb.fit_transform(data['Gender'])"
   ]
  },
  {
   "cell_type": "code",
   "execution_count": 123,
   "metadata": {},
   "outputs": [
    {
     "data": {
      "text/plain": [
       "array([1, 0], dtype=int64)"
      ]
     },
     "execution_count": 123,
     "metadata": {},
     "output_type": "execute_result"
    }
   ],
   "source": [
    "data['Gender'].unique()"
   ]
  },
  {
   "cell_type": "code",
   "execution_count": 155,
   "metadata": {},
   "outputs": [
    {
     "data": {
      "text/html": [
       "<div>\n",
       "<style scoped>\n",
       "    .dataframe tbody tr th:only-of-type {\n",
       "        vertical-align: middle;\n",
       "    }\n",
       "\n",
       "    .dataframe tbody tr th {\n",
       "        vertical-align: top;\n",
       "    }\n",
       "\n",
       "    .dataframe thead th {\n",
       "        text-align: right;\n",
       "    }\n",
       "</style>\n",
       "<table border=\"1\" class=\"dataframe\">\n",
       "  <thead>\n",
       "    <tr style=\"text-align: right;\">\n",
       "      <th></th>\n",
       "      <th>Gender</th>\n",
       "      <th>Age</th>\n",
       "      <th>EstimatedSalary</th>\n",
       "    </tr>\n",
       "  </thead>\n",
       "  <tbody>\n",
       "    <tr>\n",
       "      <th>0</th>\n",
       "      <td>1</td>\n",
       "      <td>19</td>\n",
       "      <td>19000</td>\n",
       "    </tr>\n",
       "    <tr>\n",
       "      <th>1</th>\n",
       "      <td>1</td>\n",
       "      <td>35</td>\n",
       "      <td>20000</td>\n",
       "    </tr>\n",
       "    <tr>\n",
       "      <th>2</th>\n",
       "      <td>0</td>\n",
       "      <td>26</td>\n",
       "      <td>43000</td>\n",
       "    </tr>\n",
       "    <tr>\n",
       "      <th>3</th>\n",
       "      <td>0</td>\n",
       "      <td>27</td>\n",
       "      <td>57000</td>\n",
       "    </tr>\n",
       "    <tr>\n",
       "      <th>4</th>\n",
       "      <td>1</td>\n",
       "      <td>19</td>\n",
       "      <td>76000</td>\n",
       "    </tr>\n",
       "    <tr>\n",
       "      <th>...</th>\n",
       "      <td>...</td>\n",
       "      <td>...</td>\n",
       "      <td>...</td>\n",
       "    </tr>\n",
       "    <tr>\n",
       "      <th>395</th>\n",
       "      <td>0</td>\n",
       "      <td>46</td>\n",
       "      <td>41000</td>\n",
       "    </tr>\n",
       "    <tr>\n",
       "      <th>396</th>\n",
       "      <td>1</td>\n",
       "      <td>51</td>\n",
       "      <td>23000</td>\n",
       "    </tr>\n",
       "    <tr>\n",
       "      <th>397</th>\n",
       "      <td>0</td>\n",
       "      <td>50</td>\n",
       "      <td>20000</td>\n",
       "    </tr>\n",
       "    <tr>\n",
       "      <th>398</th>\n",
       "      <td>1</td>\n",
       "      <td>36</td>\n",
       "      <td>33000</td>\n",
       "    </tr>\n",
       "    <tr>\n",
       "      <th>399</th>\n",
       "      <td>0</td>\n",
       "      <td>49</td>\n",
       "      <td>36000</td>\n",
       "    </tr>\n",
       "  </tbody>\n",
       "</table>\n",
       "<p>400 rows × 3 columns</p>\n",
       "</div>"
      ],
      "text/plain": [
       "     Gender  Age  EstimatedSalary\n",
       "0         1   19            19000\n",
       "1         1   35            20000\n",
       "2         0   26            43000\n",
       "3         0   27            57000\n",
       "4         1   19            76000\n",
       "..      ...  ...              ...\n",
       "395       0   46            41000\n",
       "396       1   51            23000\n",
       "397       0   50            20000\n",
       "398       1   36            33000\n",
       "399       0   49            36000\n",
       "\n",
       "[400 rows x 3 columns]"
      ]
     },
     "execution_count": 155,
     "metadata": {},
     "output_type": "execute_result"
    }
   ],
   "source": [
    "X = data.drop([\"Purchased\",\"User ID\"],axis=1)\n",
    "X"
   ]
  },
  {
   "cell_type": "code",
   "execution_count": 158,
   "metadata": {},
   "outputs": [],
   "source": [
    "y = data[\"Purchased\"]"
   ]
  },
  {
   "cell_type": "code",
   "execution_count": 159,
   "metadata": {},
   "outputs": [],
   "source": [
    "from sklearn.preprocessing import StandardScaler"
   ]
  },
  {
   "cell_type": "code",
   "execution_count": 160,
   "metadata": {},
   "outputs": [],
   "source": [
    "sc = StandardScaler()"
   ]
  },
  {
   "cell_type": "code",
   "execution_count": 161,
   "metadata": {},
   "outputs": [],
   "source": [
    "X = sc.fit_transform(X)"
   ]
  },
  {
   "cell_type": "code",
   "execution_count": 162,
   "metadata": {},
   "outputs": [
    {
     "data": {
      "text/plain": [
       "array([[ 1.02020406, -1.78179743, -1.49004624],\n",
       "       [ 1.02020406, -0.25358736, -1.46068138],\n",
       "       [-0.98019606, -1.11320552, -0.78528968],\n",
       "       ...,\n",
       "       [-0.98019606,  1.17910958, -1.46068138],\n",
       "       [ 1.02020406, -0.15807423, -1.07893824],\n",
       "       [-0.98019606,  1.08359645, -0.99084367]])"
      ]
     },
     "execution_count": 162,
     "metadata": {},
     "output_type": "execute_result"
    }
   ],
   "source": [
    "X"
   ]
  },
  {
   "cell_type": "code",
   "execution_count": 163,
   "metadata": {},
   "outputs": [],
   "source": [
    "from sklearn.tree import DecisionTreeClassifier"
   ]
  },
  {
   "cell_type": "code",
   "execution_count": 164,
   "metadata": {},
   "outputs": [],
   "source": [
    "dc = DecisionTreeClassifier(max_depth=8)"
   ]
  },
  {
   "cell_type": "code",
   "execution_count": 165,
   "metadata": {},
   "outputs": [],
   "source": [
    "from sklearn.model_selection import train_test_split"
   ]
  },
  {
   "cell_type": "code",
   "execution_count": 166,
   "metadata": {},
   "outputs": [],
   "source": [
    "x_train,x_test,y_train,y_test = train_test_split(X,y,test_size=0.20)"
   ]
  },
  {
   "cell_type": "code",
   "execution_count": 167,
   "metadata": {},
   "outputs": [
    {
     "data": {
      "text/plain": [
       "(320, 3)"
      ]
     },
     "execution_count": 167,
     "metadata": {},
     "output_type": "execute_result"
    }
   ],
   "source": [
    "x_train.shape"
   ]
  },
  {
   "cell_type": "code",
   "execution_count": 168,
   "metadata": {},
   "outputs": [
    {
     "data": {
      "text/plain": [
       "(80, 3)"
      ]
     },
     "execution_count": 168,
     "metadata": {},
     "output_type": "execute_result"
    }
   ],
   "source": [
    "x_test.shape"
   ]
  },
  {
   "cell_type": "code",
   "execution_count": 169,
   "metadata": {},
   "outputs": [
    {
     "data": {
      "text/plain": [
       "DecisionTreeClassifier(ccp_alpha=0.0, class_weight=None, criterion='gini',\n",
       "                       max_depth=8, max_features=None, max_leaf_nodes=None,\n",
       "                       min_impurity_decrease=0.0, min_impurity_split=None,\n",
       "                       min_samples_leaf=1, min_samples_split=2,\n",
       "                       min_weight_fraction_leaf=0.0, presort='deprecated',\n",
       "                       random_state=None, splitter='best')"
      ]
     },
     "execution_count": 169,
     "metadata": {},
     "output_type": "execute_result"
    }
   ],
   "source": [
    "dc.fit(x_train,y_train)"
   ]
  },
  {
   "cell_type": "code",
   "execution_count": 170,
   "metadata": {},
   "outputs": [],
   "source": [
    "from sklearn.tree import plot_tree"
   ]
  },
  {
   "cell_type": "code",
   "execution_count": 171,
   "metadata": {},
   "outputs": [],
   "source": [
    "from matplotlib.pylab import rcParams"
   ]
  },
  {
   "cell_type": "code",
   "execution_count": 172,
   "metadata": {},
   "outputs": [],
   "source": [
    "rcParams[\"figure.figsize\"] = 20,20"
   ]
  },
  {
   "cell_type": "code",
   "execution_count": 173,
   "metadata": {},
   "outputs": [
    {
     "data": {
      "text/plain": [
       "[Text(525.0101351351351, 1026.8, 'X[1] <= 0.463\\ngini = 0.459\\nsamples = 320\\nvalue = [206, 114]'),\n",
       " Text(226.2162162162162, 906.0, 'X[2] <= 0.58\\ngini = 0.257\\nsamples = 224\\nvalue = [190, 34]'),\n",
       " Text(90.48648648648648, 785.2, 'X[2] <= 0.081\\ngini = 0.042\\nsamples = 188\\nvalue = [184, 4]'),\n",
       " Text(60.32432432432432, 664.4, 'gini = 0.0\\nsamples = 131\\nvalue = [131, 0]'),\n",
       " Text(120.64864864864865, 664.4, 'X[1] <= -0.11\\ngini = 0.131\\nsamples = 57\\nvalue = [53, 4]'),\n",
       " Text(90.48648648648648, 543.6, 'gini = 0.0\\nsamples = 38\\nvalue = [38, 0]'),\n",
       " Text(150.8108108108108, 543.6, 'X[2] <= 0.404\\ngini = 0.332\\nsamples = 19\\nvalue = [15, 4]'),\n",
       " Text(120.64864864864865, 422.79999999999995, 'X[2] <= 0.257\\ngini = 0.278\\nsamples = 18\\nvalue = [15, 3]'),\n",
       " Text(90.48648648648648, 302.0, 'X[1] <= 0.319\\ngini = 0.42\\nsamples = 10\\nvalue = [7, 3]'),\n",
       " Text(60.32432432432432, 181.19999999999993, 'X[0] <= 0.02\\ngini = 0.346\\nsamples = 9\\nvalue = [7, 2]'),\n",
       " Text(30.16216216216216, 60.399999999999864, 'gini = 0.5\\nsamples = 4\\nvalue = [2, 2]'),\n",
       " Text(90.48648648648648, 60.399999999999864, 'gini = 0.0\\nsamples = 5\\nvalue = [5, 0]'),\n",
       " Text(120.64864864864865, 181.19999999999993, 'gini = 0.0\\nsamples = 1\\nvalue = [0, 1]'),\n",
       " Text(150.8108108108108, 302.0, 'gini = 0.0\\nsamples = 8\\nvalue = [8, 0]'),\n",
       " Text(180.97297297297297, 422.79999999999995, 'gini = 0.0\\nsamples = 1\\nvalue = [0, 1]'),\n",
       " Text(361.94594594594594, 785.2, 'X[1] <= -0.206\\ngini = 0.278\\nsamples = 36\\nvalue = [6, 30]'),\n",
       " Text(331.78378378378375, 664.4, 'X[2] <= 1.446\\ngini = 0.42\\nsamples = 20\\nvalue = [6, 14]'),\n",
       " Text(301.6216216216216, 543.6, 'X[2] <= 1.109\\ngini = 0.497\\nsamples = 13\\nvalue = [6, 7]'),\n",
       " Text(241.2972972972973, 422.79999999999995, 'X[2] <= 0.61\\ngini = 0.278\\nsamples = 6\\nvalue = [1, 5]'),\n",
       " Text(211.13513513513513, 302.0, 'gini = 0.0\\nsamples = 1\\nvalue = [1, 0]'),\n",
       " Text(271.4594594594595, 302.0, 'gini = 0.0\\nsamples = 5\\nvalue = [0, 5]'),\n",
       " Text(361.94594594594594, 422.79999999999995, 'X[1] <= -0.636\\ngini = 0.408\\nsamples = 7\\nvalue = [5, 2]'),\n",
       " Text(331.78378378378375, 302.0, 'gini = 0.0\\nsamples = 2\\nvalue = [2, 0]'),\n",
       " Text(392.1081081081081, 302.0, 'X[1] <= -0.301\\ngini = 0.48\\nsamples = 5\\nvalue = [3, 2]'),\n",
       " Text(361.94594594594594, 181.19999999999993, 'X[2] <= 1.285\\ngini = 0.5\\nsamples = 4\\nvalue = [2, 2]'),\n",
       " Text(331.78378378378375, 60.399999999999864, 'gini = 0.0\\nsamples = 1\\nvalue = [0, 1]'),\n",
       " Text(392.1081081081081, 60.399999999999864, 'gini = 0.444\\nsamples = 3\\nvalue = [2, 1]'),\n",
       " Text(422.27027027027026, 181.19999999999993, 'gini = 0.0\\nsamples = 1\\nvalue = [1, 0]'),\n",
       " Text(361.94594594594594, 543.6, 'gini = 0.0\\nsamples = 7\\nvalue = [0, 7]'),\n",
       " Text(392.1081081081081, 664.4, 'gini = 0.0\\nsamples = 16\\nvalue = [0, 16]'),\n",
       " Text(823.8040540540541, 906.0, 'X[1] <= 1.418\\ngini = 0.278\\nsamples = 96\\nvalue = [16, 80]'),\n",
       " Text(622.0945945945946, 785.2, 'X[2] <= -0.947\\ngini = 0.346\\nsamples = 63\\nvalue = [14, 49]'),\n",
       " Text(482.5945945945946, 664.4, 'X[2] <= -1.387\\ngini = 0.105\\nsamples = 18\\nvalue = [1, 17]'),\n",
       " Text(452.4324324324324, 543.6, 'X[1] <= 0.749\\ngini = 0.375\\nsamples = 4\\nvalue = [1, 3]'),\n",
       " Text(422.27027027027026, 422.79999999999995, 'gini = 0.0\\nsamples = 2\\nvalue = [0, 2]'),\n",
       " Text(482.5945945945946, 422.79999999999995, 'X[1] <= 1.084\\ngini = 0.5\\nsamples = 2\\nvalue = [1, 1]'),\n",
       " Text(452.4324324324324, 302.0, 'gini = 0.0\\nsamples = 1\\nvalue = [1, 0]'),\n",
       " Text(512.7567567567568, 302.0, 'gini = 0.0\\nsamples = 1\\nvalue = [0, 1]'),\n",
       " Text(512.7567567567568, 543.6, 'gini = 0.0\\nsamples = 14\\nvalue = [0, 14]'),\n",
       " Text(761.5945945945946, 664.4, 'X[2] <= 0.419\\ngini = 0.411\\nsamples = 45\\nvalue = [13, 32]'),\n",
       " Text(678.6486486486486, 543.6, 'X[2] <= -0.433\\ngini = 0.5\\nsamples = 18\\nvalue = [9, 9]'),\n",
       " Text(603.2432432432432, 422.79999999999995, 'X[2] <= -0.638\\ngini = 0.463\\nsamples = 11\\nvalue = [4, 7]'),\n",
       " Text(573.081081081081, 302.0, 'X[2] <= -0.815\\ngini = 0.5\\nsamples = 8\\nvalue = [4, 4]'),\n",
       " Text(512.7567567567568, 181.19999999999993, 'X[1] <= 0.702\\ngini = 0.375\\nsamples = 4\\nvalue = [1, 3]'),\n",
       " Text(482.5945945945946, 60.399999999999864, 'gini = 0.0\\nsamples = 1\\nvalue = [1, 0]'),\n",
       " Text(542.918918918919, 60.399999999999864, 'gini = 0.0\\nsamples = 3\\nvalue = [0, 3]'),\n",
       " Text(633.4054054054054, 181.19999999999993, 'X[1] <= 0.797\\ngini = 0.375\\nsamples = 4\\nvalue = [3, 1]'),\n",
       " Text(603.2432432432432, 60.399999999999864, 'gini = 0.0\\nsamples = 1\\nvalue = [0, 1]'),\n",
       " Text(663.5675675675675, 60.399999999999864, 'gini = 0.0\\nsamples = 3\\nvalue = [3, 0]'),\n",
       " Text(633.4054054054054, 302.0, 'gini = 0.0\\nsamples = 3\\nvalue = [0, 3]'),\n",
       " Text(754.0540540540541, 422.79999999999995, 'X[1] <= 1.036\\ngini = 0.408\\nsamples = 7\\nvalue = [5, 2]'),\n",
       " Text(723.8918918918919, 302.0, 'X[0] <= 0.02\\ngini = 0.48\\nsamples = 5\\nvalue = [3, 2]'),\n",
       " Text(693.7297297297297, 181.19999999999993, 'gini = 0.0\\nsamples = 2\\nvalue = [2, 0]'),\n",
       " Text(754.0540540540541, 181.19999999999993, 'X[2] <= -0.095\\ngini = 0.444\\nsamples = 3\\nvalue = [1, 2]'),\n",
       " Text(723.8918918918919, 60.399999999999864, 'gini = 0.0\\nsamples = 1\\nvalue = [1, 0]'),\n",
       " Text(784.2162162162163, 60.399999999999864, 'gini = 0.0\\nsamples = 2\\nvalue = [0, 2]'),\n",
       " Text(784.2162162162163, 302.0, 'gini = 0.0\\nsamples = 2\\nvalue = [2, 0]'),\n",
       " Text(844.5405405405405, 543.6, 'X[2] <= 1.285\\ngini = 0.252\\nsamples = 27\\nvalue = [4, 23]'),\n",
       " Text(814.3783783783783, 422.79999999999995, 'gini = 0.0\\nsamples = 10\\nvalue = [0, 10]'),\n",
       " Text(874.7027027027027, 422.79999999999995, 'X[2] <= 1.344\\ngini = 0.36\\nsamples = 17\\nvalue = [4, 13]'),\n",
       " Text(844.5405405405405, 302.0, 'gini = 0.0\\nsamples = 1\\nvalue = [1, 0]'),\n",
       " Text(904.8648648648648, 302.0, 'X[2] <= 1.828\\ngini = 0.305\\nsamples = 16\\nvalue = [3, 13]'),\n",
       " Text(874.7027027027027, 181.19999999999993, 'gini = 0.0\\nsamples = 5\\nvalue = [0, 5]'),\n",
       " Text(935.027027027027, 181.19999999999993, 'X[2] <= 1.946\\ngini = 0.397\\nsamples = 11\\nvalue = [3, 8]'),\n",
       " Text(904.8648648648648, 60.399999999999864, 'gini = 0.444\\nsamples = 3\\nvalue = [2, 1]'),\n",
       " Text(965.1891891891892, 60.399999999999864, 'gini = 0.219\\nsamples = 8\\nvalue = [1, 7]'),\n",
       " Text(1025.5135135135135, 785.2, 'X[1] <= 1.991\\ngini = 0.114\\nsamples = 33\\nvalue = [2, 31]'),\n",
       " Text(995.3513513513514, 664.4, 'gini = 0.0\\nsamples = 20\\nvalue = [0, 20]'),\n",
       " Text(1055.6756756756756, 664.4, 'X[1] <= 2.086\\ngini = 0.26\\nsamples = 13\\nvalue = [2, 11]'),\n",
       " Text(1025.5135135135135, 543.6, 'X[2] <= 0.463\\ngini = 0.444\\nsamples = 6\\nvalue = [2, 4]'),\n",
       " Text(995.3513513513514, 422.79999999999995, 'X[2] <= -0.315\\ngini = 0.444\\nsamples = 3\\nvalue = [2, 1]'),\n",
       " Text(965.1891891891892, 302.0, 'gini = 0.0\\nsamples = 1\\nvalue = [1, 0]'),\n",
       " Text(1025.5135135135135, 302.0, 'X[2] <= 0.287\\ngini = 0.5\\nsamples = 2\\nvalue = [1, 1]'),\n",
       " Text(995.3513513513514, 181.19999999999993, 'gini = 0.0\\nsamples = 1\\nvalue = [0, 1]'),\n",
       " Text(1055.6756756756756, 181.19999999999993, 'gini = 0.0\\nsamples = 1\\nvalue = [1, 0]'),\n",
       " Text(1055.6756756756756, 422.79999999999995, 'gini = 0.0\\nsamples = 3\\nvalue = [0, 3]'),\n",
       " Text(1085.837837837838, 543.6, 'gini = 0.0\\nsamples = 7\\nvalue = [0, 7]')]"
      ]
     },
     "execution_count": 173,
     "metadata": {},
     "output_type": "execute_result"
    },
    {
     "data": {
      "image/png": "[encoded data removed]",
      "text/plain": [
       "<Figure size 1440x1440 with 1 Axes>"
      ]
     },
     "metadata": {
      "needs_background": "light"
     },
     "output_type": "display_data"
    }
   ],
   "source": [
    "plot_tree(dc)"
   ]
  },
  {
   "cell_type": "code",
   "execution_count": 174,
   "metadata": {},
   "outputs": [],
   "source": [
    "YPred= dc.predict(x_test)"
   ]
  },
  {
   "cell_type": "code",
   "execution_count": 175,
   "metadata": {},
   "outputs": [
    {
     "data": {
      "text/plain": [
       "array([0, 0, 0, 1, 0, 0, 0, 1, 0, 0, 1, 0, 1, 1, 0, 1, 0, 0, 1, 1, 0, 0,\n",
       "       1, 0, 0, 1, 0, 0, 0, 0, 1, 0, 0, 1, 0, 1, 0, 0, 0, 0, 1, 1, 1, 1,\n",
       "       0, 0, 1, 1, 0, 0, 0, 1, 1, 1, 0, 0, 0, 1, 0, 1, 0, 0, 1, 0, 0, 0,\n",
       "       0, 0, 0, 0, 0, 1, 0, 0, 0, 0, 1, 0, 0, 0], dtype=int64)"
      ]
     },
     "execution_count": 175,
     "metadata": {},
     "output_type": "execute_result"
    }
   ],
   "source": [
    "YPred"
   ]
  },
  {
   "cell_type": "code",
   "execution_count": 176,
   "metadata": {},
   "outputs": [],
   "source": [
    "from sklearn.metrics import accuracy_score"
   ]
  },
  {
   "cell_type": "code",
   "execution_count": 177,
   "metadata": {},
   "outputs": [
    {
     "data": {
      "text/plain": [
       "0.85"
      ]
     },
     "execution_count": 177,
     "metadata": {},
     "output_type": "execute_result"
    }
   ],
   "source": [
    "accuracy_score(y_test, YPred)"
   ]
  },
  {
   "cell_type": "code",
   "execution_count": 178,
   "metadata": {},
   "outputs": [
    {
     "name": "stdout",
     "output_type": "stream",
     "text": [
      "accuracy_score : 88.75\n",
      "confusion_matrix : \n",
      " [[47  4]\n",
      " [ 5 24]]\n",
      "classification_report :\n",
      "               precision    recall  f1-score   support\n",
      "\n",
      "           0       0.90      0.92      0.91        51\n",
      "           1       0.86      0.83      0.84        29\n",
      "\n",
      "    accuracy                           0.89        80\n",
      "   macro avg       0.88      0.87      0.88        80\n",
      "weighted avg       0.89      0.89      0.89        80\n",
      "\n"
     ]
    }
   ],
   "source": [
    "from sklearn.ensemble import RandomForestClassifier\n",
    "rf = RandomForestClassifier(n_estimators=20,random_state=0)\n",
    "rf.fit(x_train,y_train)\n",
    "yPred = rf.predict(x_test)\n",
    "from sklearn.metrics import accuracy_score,confusion_matrix,classification_report\n",
    "\n",
    "rf.fit(x_train,y_train)\n",
    "yPred = rf.predict(x_test)\n",
    "print(\"accuracy_score :\",(accuracy_score(y_test,yPred)*100))\n",
    "print(\"confusion_matrix : \\n\",(confusion_matrix(y_test,yPred)))\n",
    "print(\"classification_report :\\n\",(classification_report(y_test,yPred)))"
   ]
  },
  {
   "cell_type": "code",
   "execution_count": 179,
   "metadata": {},
   "outputs": [
    {
     "name": "stdout",
     "output_type": "stream",
     "text": [
      "0.84\n"
     ]
    }
   ],
   "source": [
    "print(\"{:.2f}\".format((45+22)/80))"
   ]
  },
  {
   "cell_type": "code",
   "execution_count": 180,
   "metadata": {},
   "outputs": [
    {
     "name": "stdout",
     "output_type": "stream",
     "text": [
      "0.83\n"
     ]
    }
   ],
   "source": [
    "print(\"{:.2f}\".format(45/(45+9)))"
   ]
  },
  {
   "cell_type": "code",
   "execution_count": null,
   "metadata": {},
   "outputs": [],
   "source": []
  },
  {
   "cell_type": "code",
   "execution_count": 181,
   "metadata": {},
   "outputs": [
    {
     "name": "stdout",
     "output_type": "stream",
     "text": [
      "0.49\n"
     ]
    }
   ],
   "source": [
    "print(\"{:.2f}\".format(((45/(45+9))+(4/(4+22)))/2))"
   ]
  },
  {
   "cell_type": "code",
   "execution_count": 182,
   "metadata": {},
   "outputs": [
    {
     "name": "stdout",
     "output_type": "stream",
     "text": [
      "0.60\n"
     ]
    }
   ],
   "source": [
    "print(\"{:.2f}\".format(((45/(45+4))+(9/(9+22)))/2))"
   ]
  },
  {
   "cell_type": "code",
   "execution_count": 184,
   "metadata": {},
   "outputs": [
    {
     "name": "stdout",
     "output_type": "stream",
     "text": [
      "Gender 0.011284038642463573\n",
      "Age 0.516746809542467\n",
      "EstimatedSalary 0.47196915181506954\n"
     ]
    }
   ],
   "source": [
    "features = [\"Gender\",\"Age\",\"EstimatedSalary\"]\n",
    "for features, imp in zip(features, rf.feature_importances_):\n",
    "    print(features, imp)"
   ]
  },
  {
   "cell_type": "code",
   "execution_count": null,
   "metadata": {},
   "outputs": [],
   "source": []
  }
 ],
 "metadata": {
  "kernelspec": {
   "display_name": "Python 3",
   "language": "python",
   "name": "python3"
  },
  "language_info": {
   "codemirror_mode": {
    "name": "ipython",
    "version": 3
   },
   "file_extension": ".py",
   "mimetype": "text/x-python",
   "name": "python",
   "nbconvert_exporter": "python",
   "pygments_lexer": "ipython3",
   "version": "3.7.4"
  }
 },
 "nbformat": 4,
 "nbformat_minor": 2
}
