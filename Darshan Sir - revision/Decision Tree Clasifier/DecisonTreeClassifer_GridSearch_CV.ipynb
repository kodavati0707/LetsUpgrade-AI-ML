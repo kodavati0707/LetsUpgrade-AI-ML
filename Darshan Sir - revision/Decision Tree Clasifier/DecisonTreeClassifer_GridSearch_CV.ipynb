{
 "cells": [
  {
   "cell_type": "code",
   "execution_count": 15,
   "metadata": {},
   "outputs": [
    {
     "name": "stderr",
     "output_type": "stream",
     "text": [
      "c:\\users\\kobalaji\\appdata\\local\\programs\\python\\python37-32\\lib\\importlib\\_bootstrap.py:219: RuntimeWarning: numpy.ufunc size changed, may indicate binary incompatibility. Expected 112 from C header, got 124 from PyObject\n",
      "  return f(*args, **kwds)\n"
     ]
    }
   ],
   "source": [
    "import pandas as pd"
   ]
  },
  {
   "cell_type": "code",
   "execution_count": 16,
   "metadata": {},
   "outputs": [],
   "source": [
    "import numpy as np"
   ]
  },
  {
   "cell_type": "code",
   "execution_count": 17,
   "metadata": {},
   "outputs": [],
   "source": [
    "data = pd.read_csv(\"Social_Network_Ads.csv\")"
   ]
  },
  {
   "cell_type": "code",
   "execution_count": 18,
   "metadata": {},
   "outputs": [
    {
     "data": {
      "text/html": [
       "<div>\n",
       "<style scoped>\n",
       "    .dataframe tbody tr th:only-of-type {\n",
       "        vertical-align: middle;\n",
       "    }\n",
       "\n",
       "    .dataframe tbody tr th {\n",
       "        vertical-align: top;\n",
       "    }\n",
       "\n",
       "    .dataframe thead th {\n",
       "        text-align: right;\n",
       "    }\n",
       "</style>\n",
       "<table border=\"1\" class=\"dataframe\">\n",
       "  <thead>\n",
       "    <tr style=\"text-align: right;\">\n",
       "      <th></th>\n",
       "      <th>User ID</th>\n",
       "      <th>Gender</th>\n",
       "      <th>Age</th>\n",
       "      <th>EstimatedSalary</th>\n",
       "      <th>Purchased</th>\n",
       "    </tr>\n",
       "  </thead>\n",
       "  <tbody>\n",
       "    <tr>\n",
       "      <th>0</th>\n",
       "      <td>15624510</td>\n",
       "      <td>Male</td>\n",
       "      <td>19</td>\n",
       "      <td>19000</td>\n",
       "      <td>0</td>\n",
       "    </tr>\n",
       "    <tr>\n",
       "      <th>1</th>\n",
       "      <td>15810944</td>\n",
       "      <td>Male</td>\n",
       "      <td>35</td>\n",
       "      <td>20000</td>\n",
       "      <td>0</td>\n",
       "    </tr>\n",
       "    <tr>\n",
       "      <th>2</th>\n",
       "      <td>15668575</td>\n",
       "      <td>Female</td>\n",
       "      <td>26</td>\n",
       "      <td>43000</td>\n",
       "      <td>0</td>\n",
       "    </tr>\n",
       "    <tr>\n",
       "      <th>3</th>\n",
       "      <td>15603246</td>\n",
       "      <td>Female</td>\n",
       "      <td>27</td>\n",
       "      <td>57000</td>\n",
       "      <td>0</td>\n",
       "    </tr>\n",
       "    <tr>\n",
       "      <th>4</th>\n",
       "      <td>15804002</td>\n",
       "      <td>Male</td>\n",
       "      <td>19</td>\n",
       "      <td>76000</td>\n",
       "      <td>0</td>\n",
       "    </tr>\n",
       "  </tbody>\n",
       "</table>\n",
       "</div>"
      ],
      "text/plain": [
       "    User ID  Gender  Age  EstimatedSalary  Purchased\n",
       "0  15624510    Male   19            19000          0\n",
       "1  15810944    Male   35            20000          0\n",
       "2  15668575  Female   26            43000          0\n",
       "3  15603246  Female   27            57000          0\n",
       "4  15804002    Male   19            76000          0"
      ]
     },
     "execution_count": 18,
     "metadata": {},
     "output_type": "execute_result"
    }
   ],
   "source": [
    "data.head()"
   ]
  },
  {
   "cell_type": "code",
   "execution_count": 19,
   "metadata": {},
   "outputs": [
    {
     "name": "stdout",
     "output_type": "stream",
     "text": [
      "<class 'pandas.core.frame.DataFrame'>\n",
      "RangeIndex: 400 entries, 0 to 399\n",
      "Data columns (total 5 columns):\n",
      "User ID            400 non-null int64\n",
      "Gender             400 non-null object\n",
      "Age                400 non-null int64\n",
      "EstimatedSalary    400 non-null int64\n",
      "Purchased          400 non-null int64\n",
      "dtypes: int64(4), object(1)\n",
      "memory usage: 14.1+ KB\n"
     ]
    }
   ],
   "source": [
    "data.info()"
   ]
  },
  {
   "cell_type": "code",
   "execution_count": 20,
   "metadata": {},
   "outputs": [],
   "source": [
    "from sklearn.preprocessing import LabelEncoder\n",
    "lb  = LabelEncoder()"
   ]
  },
  {
   "cell_type": "code",
   "execution_count": 21,
   "metadata": {},
   "outputs": [],
   "source": [
    "data['Gender'] = lb.fit_transform(data['Gender'])"
   ]
  },
  {
   "cell_type": "code",
   "execution_count": 22,
   "metadata": {},
   "outputs": [
    {
     "data": {
      "text/plain": [
       "array([1, 0], dtype=int64)"
      ]
     },
     "execution_count": 22,
     "metadata": {},
     "output_type": "execute_result"
    }
   ],
   "source": [
    "data['Gender'].unique()"
   ]
  },
  {
   "cell_type": "code",
   "execution_count": 23,
   "metadata": {},
   "outputs": [],
   "source": [
    "X = data.drop(\"Purchased\",axis=1)"
   ]
  },
  {
   "cell_type": "code",
   "execution_count": 24,
   "metadata": {},
   "outputs": [],
   "source": [
    "y = data[\"Purchased\"]"
   ]
  },
  {
   "cell_type": "code",
   "execution_count": 25,
   "metadata": {},
   "outputs": [],
   "source": [
    "from sklearn.preprocessing import StandardScaler"
   ]
  },
  {
   "cell_type": "code",
   "execution_count": 26,
   "metadata": {},
   "outputs": [],
   "source": [
    "sc = StandardScaler()"
   ]
  },
  {
   "cell_type": "code",
   "execution_count": 27,
   "metadata": {},
   "outputs": [],
   "source": [
    "X = sc.fit_transform(X)"
   ]
  },
  {
   "cell_type": "code",
   "execution_count": 28,
   "metadata": {},
   "outputs": [
    {
     "data": {
      "text/plain": [
       "array([[-0.93657932,  1.02020406, -1.78179743, -1.49004624],\n",
       "       [ 1.66838653,  1.02020406, -0.25358736, -1.46068138],\n",
       "       [-0.32087714, -0.98019606, -1.11320552, -0.78528968],\n",
       "       ...,\n",
       "       [-0.52039175, -0.98019606,  1.17910958, -1.46068138],\n",
       "       [ 0.88695546,  1.02020406, -0.15807423, -1.07893824],\n",
       "       [-1.36231017, -0.98019606,  1.08359645, -0.99084367]])"
      ]
     },
     "execution_count": 28,
     "metadata": {},
     "output_type": "execute_result"
    }
   ],
   "source": [
    "X"
   ]
  },
  {
   "cell_type": "code",
   "execution_count": 29,
   "metadata": {},
   "outputs": [],
   "source": [
    "from sklearn.tree import DecisionTreeClassifier"
   ]
  },
  {
   "cell_type": "code",
   "execution_count": 30,
   "metadata": {},
   "outputs": [],
   "source": [
    "dc = DecisionTreeClassifier()"
   ]
  },
  {
   "cell_type": "code",
   "execution_count": 31,
   "metadata": {},
   "outputs": [],
   "source": [
    "from sklearn.model_selection import train_test_split"
   ]
  },
  {
   "cell_type": "code",
   "execution_count": 32,
   "metadata": {},
   "outputs": [],
   "source": [
    "x_train,x_test,y_train,y_test = train_test_split(X,y,test_size=0.20)"
   ]
  },
  {
   "cell_type": "code",
   "execution_count": 33,
   "metadata": {},
   "outputs": [
    {
     "data": {
      "text/plain": [
       "(320, 4)"
      ]
     },
     "execution_count": 33,
     "metadata": {},
     "output_type": "execute_result"
    }
   ],
   "source": [
    "x_train.shape"
   ]
  },
  {
   "cell_type": "code",
   "execution_count": 34,
   "metadata": {},
   "outputs": [
    {
     "data": {
      "text/plain": [
       "(80, 4)"
      ]
     },
     "execution_count": 34,
     "metadata": {},
     "output_type": "execute_result"
    }
   ],
   "source": [
    "x_test.shape"
   ]
  },
  {
   "cell_type": "code",
   "execution_count": 35,
   "metadata": {},
   "outputs": [
    {
     "data": {
      "text/plain": [
       "DecisionTreeClassifier(ccp_alpha=0.0, class_weight=None, criterion='gini',\n",
       "                       max_depth=None, max_features=None, max_leaf_nodes=None,\n",
       "                       min_impurity_decrease=0.0, min_impurity_split=None,\n",
       "                       min_samples_leaf=1, min_samples_split=2,\n",
       "                       min_weight_fraction_leaf=0.0, presort='deprecated',\n",
       "                       random_state=None, splitter='best')"
      ]
     },
     "execution_count": 35,
     "metadata": {},
     "output_type": "execute_result"
    }
   ],
   "source": [
    "dc.fit(x_train,y_train)"
   ]
  },
  {
   "cell_type": "code",
   "execution_count": 36,
   "metadata": {},
   "outputs": [],
   "source": [
    "from sklearn.tree import plot_tree"
   ]
  },
  {
   "cell_type": "code",
   "execution_count": 37,
   "metadata": {},
   "outputs": [],
   "source": [
    "from matplotlib.pylab import rcParams"
   ]
  },
  {
   "cell_type": "code",
   "execution_count": 38,
   "metadata": {},
   "outputs": [],
   "source": [
    "rcParams[\"figure.figsize\"] = 20,20"
   ]
  },
  {
   "cell_type": "code",
   "execution_count": 39,
   "metadata": {},
   "outputs": [
    {
     "data": {
      "text/plain": [
       "[Text(451.4375, 1032.8400000000001, 'X[2] <= 0.463\\ngini = 0.455\\nsamples = 320\\nvalue = [208, 112]'),\n",
       " Text(248.0, 924.1200000000001, 'X[3] <= 0.61\\ngini = 0.254\\nsamples = 228\\nvalue = [194, 34]'),\n",
       " Text(93.0, 815.4000000000001, 'X[2] <= -0.11\\ngini = 0.069\\nsamples = 195\\nvalue = [188, 7]'),\n",
       " Text(62.0, 706.6800000000001, 'gini = 0.0\\nsamples = 136\\nvalue = [136, 0]'),\n",
       " Text(124.0, 706.6800000000001, 'X[0] <= -1.565\\ngini = 0.209\\nsamples = 59\\nvalue = [52, 7]'),\n",
       " Text(93.0, 597.96, 'gini = 0.0\\nsamples = 2\\nvalue = [0, 2]'),\n",
       " Text(155.0, 597.96, 'X[3] <= 0.081\\ngini = 0.16\\nsamples = 57\\nvalue = [52, 5]'),\n",
       " Text(62.0, 489.24, 'X[0] <= 0.822\\ngini = 0.048\\nsamples = 41\\nvalue = [40, 1]'),\n",
       " Text(31.0, 380.5200000000001, 'gini = 0.0\\nsamples = 33\\nvalue = [33, 0]'),\n",
       " Text(93.0, 380.5200000000001, 'X[2] <= -0.015\\ngini = 0.219\\nsamples = 8\\nvalue = [7, 1]'),\n",
       " Text(62.0, 271.80000000000007, 'gini = 0.0\\nsamples = 1\\nvalue = [0, 1]'),\n",
       " Text(124.0, 271.80000000000007, 'gini = 0.0\\nsamples = 7\\nvalue = [7, 0]'),\n",
       " Text(248.0, 489.24, 'X[0] <= 0.366\\ngini = 0.375\\nsamples = 16\\nvalue = [12, 4]'),\n",
       " Text(217.0, 380.5200000000001, 'X[0] <= -1.377\\ngini = 0.5\\nsamples = 8\\nvalue = [4, 4]'),\n",
       " Text(186.0, 271.80000000000007, 'gini = 0.0\\nsamples = 3\\nvalue = [3, 0]'),\n",
       " Text(248.0, 271.80000000000007, 'X[3] <= 0.287\\ngini = 0.32\\nsamples = 5\\nvalue = [1, 4]'),\n",
       " Text(217.0, 163.08000000000004, 'gini = 0.0\\nsamples = 4\\nvalue = [0, 4]'),\n",
       " Text(279.0, 163.08000000000004, 'gini = 0.0\\nsamples = 1\\nvalue = [1, 0]'),\n",
       " Text(279.0, 380.5200000000001, 'gini = 0.0\\nsamples = 8\\nvalue = [8, 0]'),\n",
       " Text(403.0, 815.4000000000001, 'X[3] <= 1.446\\ngini = 0.298\\nsamples = 33\\nvalue = [6, 27]'),\n",
       " Text(372.0, 706.6800000000001, 'X[3] <= 1.109\\ngini = 0.432\\nsamples = 19\\nvalue = [6, 13]'),\n",
       " Text(341.0, 597.96, 'gini = 0.0\\nsamples = 7\\nvalue = [0, 7]'),\n",
       " Text(403.0, 597.96, 'X[0] <= 1.453\\ngini = 0.5\\nsamples = 12\\nvalue = [6, 6]'),\n",
       " Text(372.0, 489.24, 'X[0] <= 0.587\\ngini = 0.444\\nsamples = 9\\nvalue = [6, 3]'),\n",
       " Text(341.0, 380.5200000000001, 'X[0] <= -0.661\\ngini = 0.48\\nsamples = 5\\nvalue = [2, 3]'),\n",
       " Text(310.0, 271.80000000000007, 'gini = 0.0\\nsamples = 2\\nvalue = [2, 0]'),\n",
       " Text(372.0, 271.80000000000007, 'gini = 0.0\\nsamples = 3\\nvalue = [0, 3]'),\n",
       " Text(403.0, 380.5200000000001, 'gini = 0.0\\nsamples = 4\\nvalue = [4, 0]'),\n",
       " Text(434.0, 489.24, 'gini = 0.0\\nsamples = 3\\nvalue = [0, 3]'),\n",
       " Text(434.0, 706.6800000000001, 'gini = 0.0\\nsamples = 14\\nvalue = [0, 14]'),\n",
       " Text(654.875, 924.1200000000001, 'X[3] <= -0.829\\ngini = 0.258\\nsamples = 92\\nvalue = [14, 78]'),\n",
       " Text(527.0, 815.4000000000001, 'X[3] <= -1.387\\ngini = 0.069\\nsamples = 28\\nvalue = [1, 27]'),\n",
       " Text(496.0, 706.6800000000001, 'X[2] <= 0.749\\ngini = 0.444\\nsamples = 3\\nvalue = [1, 2]'),\n",
       " Text(465.0, 597.96, 'gini = 0.0\\nsamples = 2\\nvalue = [0, 2]'),\n",
       " Text(527.0, 597.96, 'gini = 0.0\\nsamples = 1\\nvalue = [1, 0]'),\n",
       " Text(558.0, 706.6800000000001, 'gini = 0.0\\nsamples = 25\\nvalue = [0, 25]'),\n",
       " Text(782.75, 815.4000000000001, 'X[3] <= 0.433\\ngini = 0.324\\nsamples = 64\\nvalue = [13, 51]'),\n",
       " Text(651.0, 706.6800000000001, 'X[2] <= 1.322\\ngini = 0.453\\nsamples = 26\\nvalue = [9, 17]'),\n",
       " Text(589.0, 597.96, 'X[2] <= 1.036\\ngini = 0.486\\nsamples = 12\\nvalue = [7, 5]'),\n",
       " Text(558.0, 489.24, 'X[0] <= -0.914\\ngini = 0.494\\nsamples = 9\\nvalue = [4, 5]'),\n",
       " Text(527.0, 380.5200000000001, 'gini = 0.0\\nsamples = 2\\nvalue = [2, 0]'),\n",
       " Text(589.0, 380.5200000000001, 'X[0] <= 0.923\\ngini = 0.408\\nsamples = 7\\nvalue = [2, 5]'),\n",
       " Text(558.0, 271.80000000000007, 'gini = 0.0\\nsamples = 4\\nvalue = [0, 4]'),\n",
       " Text(620.0, 271.80000000000007, 'X[1] <= 0.02\\ngini = 0.444\\nsamples = 3\\nvalue = [2, 1]'),\n",
       " Text(589.0, 163.08000000000004, 'X[3] <= -0.624\\ngini = 0.5\\nsamples = 2\\nvalue = [1, 1]'),\n",
       " Text(558.0, 54.36000000000013, 'gini = 0.0\\nsamples = 1\\nvalue = [1, 0]'),\n",
       " Text(620.0, 54.36000000000013, 'gini = 0.0\\nsamples = 1\\nvalue = [0, 1]'),\n",
       " Text(651.0, 163.08000000000004, 'gini = 0.0\\nsamples = 1\\nvalue = [1, 0]'),\n",
       " Text(620.0, 489.24, 'gini = 0.0\\nsamples = 3\\nvalue = [3, 0]'),\n",
       " Text(713.0, 597.96, 'X[1] <= 0.02\\ngini = 0.245\\nsamples = 14\\nvalue = [2, 12]'),\n",
       " Text(682.0, 489.24, 'X[3] <= -0.756\\ngini = 0.444\\nsamples = 6\\nvalue = [2, 4]'),\n",
       " Text(651.0, 380.5200000000001, 'gini = 0.0\\nsamples = 1\\nvalue = [1, 0]'),\n",
       " Text(713.0, 380.5200000000001, 'X[3] <= 0.375\\ngini = 0.32\\nsamples = 5\\nvalue = [1, 4]'),\n",
       " Text(682.0, 271.80000000000007, 'gini = 0.0\\nsamples = 4\\nvalue = [0, 4]'),\n",
       " Text(744.0, 271.80000000000007, 'gini = 0.0\\nsamples = 1\\nvalue = [1, 0]'),\n",
       " Text(744.0, 489.24, 'gini = 0.0\\nsamples = 8\\nvalue = [0, 8]'),\n",
       " Text(914.5, 706.6800000000001, 'X[2] <= 0.845\\ngini = 0.188\\nsamples = 38\\nvalue = [4, 34]'),\n",
       " Text(837.0, 597.96, 'X[0] <= 0.021\\ngini = 0.408\\nsamples = 7\\nvalue = [2, 5]'),\n",
       " Text(806.0, 489.24, 'X[0] <= -0.97\\ngini = 0.444\\nsamples = 3\\nvalue = [2, 1]'),\n",
       " Text(775.0, 380.5200000000001, 'gini = 0.0\\nsamples = 1\\nvalue = [0, 1]'),\n",
       " Text(837.0, 380.5200000000001, 'gini = 0.0\\nsamples = 2\\nvalue = [2, 0]'),\n",
       " Text(868.0, 489.24, 'gini = 0.0\\nsamples = 4\\nvalue = [0, 4]'),\n",
       " Text(992.0, 597.96, 'X[0] <= 1.342\\ngini = 0.121\\nsamples = 31\\nvalue = [2, 29]'),\n",
       " Text(930.0, 489.24, 'X[3] <= 1.872\\ngini = 0.067\\nsamples = 29\\nvalue = [1, 28]'),\n",
       " Text(899.0, 380.5200000000001, 'gini = 0.0\\nsamples = 22\\nvalue = [0, 22]'),\n",
       " Text(961.0, 380.5200000000001, 'X[3] <= 1.946\\ngini = 0.245\\nsamples = 7\\nvalue = [1, 6]'),\n",
       " Text(930.0, 271.80000000000007, 'gini = 0.0\\nsamples = 1\\nvalue = [1, 0]'),\n",
       " Text(992.0, 271.80000000000007, 'gini = 0.0\\nsamples = 6\\nvalue = [0, 6]'),\n",
       " Text(1054.0, 489.24, 'X[3] <= 1.593\\ngini = 0.5\\nsamples = 2\\nvalue = [1, 1]'),\n",
       " Text(1023.0, 380.5200000000001, 'gini = 0.0\\nsamples = 1\\nvalue = [1, 0]'),\n",
       " Text(1085.0, 380.5200000000001, 'gini = 0.0\\nsamples = 1\\nvalue = [0, 1]')]"
      ]
     },
     "execution_count": 39,
     "metadata": {},
     "output_type": "execute_result"
    },
    {
     "data": {
      "image/png": "[encoded data removed]",
      "text/plain": [
       "<Figure size 1440x1440 with 1 Axes>"
      ]
     },
     "metadata": {
      "needs_background": "light"
     },
     "output_type": "display_data"
    }
   ],
   "source": [
    "plot_tree(dc)"
   ]
  },
  {
   "cell_type": "code",
   "execution_count": 40,
   "metadata": {},
   "outputs": [],
   "source": [
    "YPred= dc.predict(x_test)"
   ]
  },
  {
   "cell_type": "code",
   "execution_count": 41,
   "metadata": {},
   "outputs": [
    {
     "data": {
      "text/plain": [
       "array([1, 0, 0, 0, 1, 0, 1, 1, 1, 0, 0, 1, 0, 0, 1, 0, 0, 1, 0, 0, 0, 0,\n",
       "       1, 0, 1, 1, 1, 0, 0, 1, 1, 0, 1, 1, 1, 0, 1, 0, 0, 0, 1, 1, 1, 0,\n",
       "       1, 0, 0, 1, 0, 1, 1, 0, 1, 1, 1, 0, 0, 0, 0, 0, 1, 0, 0, 0, 0, 0,\n",
       "       0, 1, 0, 0, 0, 1, 0, 0, 1, 0, 0, 0, 0, 1], dtype=int64)"
      ]
     },
     "execution_count": 41,
     "metadata": {},
     "output_type": "execute_result"
    }
   ],
   "source": [
    "YPred"
   ]
  },
  {
   "cell_type": "code",
   "execution_count": 42,
   "metadata": {},
   "outputs": [],
   "source": [
    "from sklearn.metrics import accuracy_score"
   ]
  },
  {
   "cell_type": "code",
   "execution_count": 43,
   "metadata": {},
   "outputs": [
    {
     "data": {
      "text/plain": [
       "0.825"
      ]
     },
     "execution_count": 43,
     "metadata": {},
     "output_type": "execute_result"
    }
   ],
   "source": [
    "accuracy_score(y_test, YPred)"
   ]
  },
  {
   "cell_type": "markdown",
   "metadata": {},
   "source": [
    "If we need to loop MAx_depth  = 1 to 8 and Criteria =  Gini and Entropy \n",
    "\n",
    "Then we need GridSearchCV"
   ]
  },
  {
   "cell_type": "code",
   "execution_count": 50,
   "metadata": {},
   "outputs": [],
   "source": [
    "param_dict = {\n",
    "    'criterion':['gini', 'entropy'],\n",
    "    'max_depth':[1,2,3,4,5,6,7,8,9,None]}"
   ]
  },
  {
   "cell_type": "code",
   "execution_count": 51,
   "metadata": {},
   "outputs": [
    {
     "data": {
      "text/plain": [
       "{'criterion': ['gini', 'entropy'],\n",
       " 'max_depth': [1, 2, 3, 4, 5, 6, 7, 8, 9, None]}"
      ]
     },
     "execution_count": 51,
     "metadata": {},
     "output_type": "execute_result"
    }
   ],
   "source": [
    "param_dict"
   ]
  },
  {
   "cell_type": "code",
   "execution_count": 52,
   "metadata": {},
   "outputs": [],
   "source": [
    "from sklearn.model_selection import GridSearchCV"
   ]
  },
  {
   "cell_type": "code",
   "execution_count": 53,
   "metadata": {},
   "outputs": [],
   "source": [
    "grid = GridSearchCV(dc,param_grid=param_dict, cv=10,n_jobs=-1)"
   ]
  },
  {
   "cell_type": "code",
   "execution_count": 54,
   "metadata": {},
   "outputs": [
    {
     "data": {
      "text/plain": [
       "GridSearchCV(cv=10, error_score=nan,\n",
       "             estimator=DecisionTreeClassifier(ccp_alpha=0.0, class_weight=None,\n",
       "                                              criterion='gini', max_depth=None,\n",
       "                                              max_features=None,\n",
       "                                              max_leaf_nodes=None,\n",
       "                                              min_impurity_decrease=0.0,\n",
       "                                              min_impurity_split=None,\n",
       "                                              min_samples_leaf=1,\n",
       "                                              min_samples_split=2,\n",
       "                                              min_weight_fraction_leaf=0.0,\n",
       "                                              presort='deprecated',\n",
       "                                              random_state=None,\n",
       "                                              splitter='best'),\n",
       "             iid='deprecated', n_jobs=-1,\n",
       "             param_grid={'criterion': ['gini', 'entropy'],\n",
       "                         'max_depth': [1, 2, 3, 4, 5, 6, 7, 8, 9, None]},\n",
       "             pre_dispatch='2*n_jobs', refit=True, return_train_score=False,\n",
       "             scoring=None, verbose=0)"
      ]
     },
     "execution_count": 54,
     "metadata": {},
     "output_type": "execute_result"
    }
   ],
   "source": [
    "grid.fit(x_train,y_train)"
   ]
  },
  {
   "cell_type": "code",
   "execution_count": 55,
   "metadata": {},
   "outputs": [
    {
     "data": {
      "text/plain": [
       "DecisionTreeClassifier(ccp_alpha=0.0, class_weight=None, criterion='gini',\n",
       "                       max_depth=2, max_features=None, max_leaf_nodes=None,\n",
       "                       min_impurity_decrease=0.0, min_impurity_split=None,\n",
       "                       min_samples_leaf=1, min_samples_split=2,\n",
       "                       min_weight_fraction_leaf=0.0, presort='deprecated',\n",
       "                       random_state=None, splitter='best')"
      ]
     },
     "execution_count": 55,
     "metadata": {},
     "output_type": "execute_result"
    }
   ],
   "source": [
    "grid.best_estimator_"
   ]
  },
  {
   "cell_type": "code",
   "execution_count": 56,
   "metadata": {},
   "outputs": [
    {
     "data": {
      "text/plain": [
       "0.9125"
      ]
     },
     "execution_count": 56,
     "metadata": {},
     "output_type": "execute_result"
    }
   ],
   "source": [
    "grid.best_score_"
   ]
  },
  {
   "cell_type": "code",
   "execution_count": 58,
   "metadata": {},
   "outputs": [
    {
     "data": {
      "text/plain": [
       "{'criterion': 'gini', 'max_depth': 2}"
      ]
     },
     "execution_count": 58,
     "metadata": {},
     "output_type": "execute_result"
    }
   ],
   "source": [
    "grid.best_params_"
   ]
  },
  {
   "cell_type": "code",
   "execution_count": 62,
   "metadata": {},
   "outputs": [],
   "source": [
    "dc_1 = DecisionTreeClassifier(criterion= 'gini',max_depth= 2)"
   ]
  },
  {
   "cell_type": "code",
   "execution_count": 63,
   "metadata": {},
   "outputs": [
    {
     "data": {
      "text/plain": [
       "DecisionTreeClassifier(ccp_alpha=0.0, class_weight=None, criterion='gini',\n",
       "                       max_depth=2, max_features=None, max_leaf_nodes=None,\n",
       "                       min_impurity_decrease=0.0, min_impurity_split=None,\n",
       "                       min_samples_leaf=1, min_samples_split=2,\n",
       "                       min_weight_fraction_leaf=0.0, presort='deprecated',\n",
       "                       random_state=None, splitter='best')"
      ]
     },
     "execution_count": 63,
     "metadata": {},
     "output_type": "execute_result"
    }
   ],
   "source": [
    "dc_1.fit(x_train,y_train)"
   ]
  },
  {
   "cell_type": "code",
   "execution_count": 66,
   "metadata": {},
   "outputs": [],
   "source": [
    "YPred_1 = dc_1.predict(x_test)"
   ]
  },
  {
   "cell_type": "code",
   "execution_count": 67,
   "metadata": {},
   "outputs": [
    {
     "data": {
      "text/plain": [
       "0.9125"
      ]
     },
     "execution_count": 67,
     "metadata": {},
     "output_type": "execute_result"
    }
   ],
   "source": [
    "accuracy_score(y_test,YPred_1)"
   ]
  }
 ],
 "metadata": {
  "kernelspec": {
   "display_name": "Python 3",
   "language": "python",
   "name": "python3"
  },
  "language_info": {
   "codemirror_mode": {
    "name": "ipython",
    "version": 3
   },
   "file_extension": ".py",
   "mimetype": "text/x-python",
   "name": "python",
   "nbconvert_exporter": "python",
   "pygments_lexer": "ipython3",
   "version": "3.7.4"
  }
 },
 "nbformat": 4,
 "nbformat_minor": 2
}
